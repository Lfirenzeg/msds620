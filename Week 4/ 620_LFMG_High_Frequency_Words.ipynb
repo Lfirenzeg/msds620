{
  "nbformat": 4,
  "nbformat_minor": 0,
  "metadata": {
    "colab": {
      "provenance": [],
      "authorship_tag": "ABX9TyPOtI37TJunhnjvv/6H0umw",
      "include_colab_link": true
    },
    "kernelspec": {
      "name": "python3",
      "display_name": "Python 3"
    },
    "language_info": {
      "name": "python"
    }
  },
  "cells": [
    {
      "cell_type": "markdown",
      "metadata": {
        "id": "view-in-github",
        "colab_type": "text"
      },
      "source": [
        "<a href=\"https://colab.research.google.com/github/Lfirenzeg/msds620/blob/main/Week%204/%20620_LFMG_High_Frequency_Words.ipynb\" target=\"_parent\"><img src=\"https://colab.research.google.com/assets/colab-badge.svg\" alt=\"Open In Colab\"/></a>"
      ]
    },
    {
      "cell_type": "markdown",
      "source": [
        "# Data 620\n",
        "# Assignment – High Frequency Words\n",
        "\n",
        "### By Luis Munoz Grass\n",
        "\n",
        "1. Choose a corpus of interest.\n",
        "2. How many total unique words are in the corpus? (Please feel free to define unique words in any interesting,\n",
        "defensible way).\n",
        "3. Taking the most common words, how many unique words represent half of the total words in the corpus?\n",
        "4. Identify the 200 highest frequency words in this corpus.\n",
        "5. Create a graph that shows the relative frequency of these 200 words.\n",
        "6. Does the observed relative frequency of these words follow Zipf’s law? Explain.\n",
        "7. In what ways do you think the frequency of the words in this corpus differ from “all words in all corpora.”"
      ],
      "metadata": {
        "id": "PmncDsvprnKW"
      }
    },
    {
      "cell_type": "markdown",
      "source": [
        "## Solution\n",
        "\n",
        "For this assignment we'll use the NLTK Corpora library. One particular corpus that caught my attention was C-Span Inaugural Address Corpus.\n",
        "\n",
        "For this assignment I chose the speech of President Obama, for his 2013 inauguration.\n",
        "\n",
        "Compared to general corpora, inaugural speeches are highly formal, focused on political themes, and we can anticipate it will show concentrated repetition of specific high-frequency words (such as \"America\", \"nation\", \"freedom\", etc). We would also expect fewer colloquialisms and less vocabulary diversity, but strong repetition of specific topics, especially in the top ranked words.\n"
      ],
      "metadata": {
        "id": "0nyPCgXwry3x"
      }
    },
    {
      "cell_type": "code",
      "source": [
        "import nltk\n",
        "from nltk import FreqDist\n",
        "nltk.download('inaugural')\n",
        "nltk.download('punkt')  # for tokenization\n"
      ],
      "metadata": {
        "colab": {
          "base_uri": "https://localhost:8080/"
        },
        "id": "0nZ8tAu7sCUp",
        "outputId": "84cf0f5b-9af3-4f2c-d297-6f0f576424d8"
      },
      "execution_count": 2,
      "outputs": [
        {
          "output_type": "stream",
          "name": "stderr",
          "text": [
            "[nltk_data] Downloading package inaugural to /root/nltk_data...\n",
            "[nltk_data]   Unzipping corpora/inaugural.zip.\n",
            "[nltk_data] Downloading package punkt to /root/nltk_data...\n",
            "[nltk_data]   Unzipping tokenizers/punkt.zip.\n"
          ]
        },
        {
          "output_type": "execute_result",
          "data": {
            "text/plain": [
              "True"
            ]
          },
          "metadata": {},
          "execution_count": 2
        }
      ]
    },
    {
      "cell_type": "code",
      "source": [
        "nltk.download('punkt_tab')"
      ],
      "metadata": {
        "colab": {
          "base_uri": "https://localhost:8080/"
        },
        "id": "DZjgDzPfR-r4",
        "outputId": "4f170486-f6f5-4abc-d815-78301769c230"
      },
      "execution_count": 3,
      "outputs": [
        {
          "output_type": "stream",
          "name": "stderr",
          "text": [
            "[nltk_data] Downloading package punkt_tab to /root/nltk_data...\n",
            "[nltk_data]   Unzipping tokenizers/punkt_tab.zip.\n"
          ]
        },
        {
          "output_type": "execute_result",
          "data": {
            "text/plain": [
              "True"
            ]
          },
          "metadata": {},
          "execution_count": 3
        }
      ]
    },
    {
      "cell_type": "code",
      "source": [
        "from nltk.corpus import inaugural\n",
        "from nltk import FreqDist, word_tokenize\n",
        "\n",
        "# loading chosen speech\n",
        "text = inaugural.raw('2013-Obama.txt')\n",
        "\n",
        "# tokenizing everything\n",
        "tokens = word_tokenize(text)\n",
        "\n",
        "# we can try to preview the first couple of words to make sure it loaded correctly\n",
        "print(tokens[:20])\n",
        "\n"
      ],
      "metadata": {
        "colab": {
          "base_uri": "https://localhost:8080/"
        },
        "id": "Z7MpzGr0PkAX",
        "outputId": "0d190f5c-a5a0-4f57-ac16-ff800c959371"
      },
      "execution_count": 4,
      "outputs": [
        {
          "output_type": "stream",
          "name": "stdout",
          "text": [
            "['Thank', 'you', '.', 'Thank', 'you', 'so', 'much', '.', 'Vice', 'President', 'Biden', ',', 'Mr.', 'Chief', 'Justice', ',', 'Members', 'of', 'the', 'United']\n"
          ]
        }
      ]
    },
    {
      "cell_type": "markdown",
      "source": [
        "### Unique Words\n",
        "For this count we will include all distinct tokens after tokenization, we will make sure to exclude punctuation and not double count capitalized variants."
      ],
      "metadata": {
        "id": "JnIaaMiEXTBO"
      }
    },
    {
      "cell_type": "code",
      "metadata": {
        "colab": {
          "base_uri": "https://localhost:8080/"
        },
        "id": "f1d1c482",
        "outputId": "4dca739d-bcce-4304-ca3a-12d9cdc9f9a8"
      },
      "source": [
        "# we'll normalize tokens setting everything to lowercase and filtering out non alphabetic symbols\n",
        "words = [word.lower() for word in tokens if word.isalpha()]\n",
        "\n",
        "# Get total unique words and total words\n",
        "unique_words = set(words)\n",
        "print(f\"Total words (after cleaning): {len(words)}\")\n",
        "print(f\"Total unique words: {len(unique_words)}\")\n"
      ],
      "execution_count": 5,
      "outputs": [
        {
          "output_type": "stream",
          "name": "stdout",
          "text": [
            "Total words (after cleaning): 2068\n",
            "Total unique words: 754\n"
          ]
        }
      ]
    },
    {
      "cell_type": "markdown",
      "source": [
        "Out of 2068 total words (after removing punctuation and numbers), there are 754 unique words. This means that about a little over a third of the vocabulary is non-repeating. So, while many words are reused (as expected in public speeches), the speaker still employed a rich and varied vocabulary to convey key ideas."
      ],
      "metadata": {
        "id": "xXv8Pl_mXUaT"
      }
    },
    {
      "cell_type": "markdown",
      "source": [
        "## Most Common Words"
      ],
      "metadata": {
        "id": "ygH3P0KC4iN1"
      }
    },
    {
      "cell_type": "code",
      "source": [
        "# frequency distribution function\n",
        "fdist = FreqDist(words)\n",
        "\n",
        "# total number of words\n",
        "total_count = len(words)\n",
        "\n",
        "# function to find how many unique words represent 50% of total words\n",
        "cumulative = 0\n",
        "top_words = []\n",
        "for word, freq in fdist.most_common():\n",
        "    cumulative += freq\n",
        "    top_words.append(word)\n",
        "    if cumulative >= total_count / 2:\n",
        "        break\n",
        "\n",
        "\n",
        "print(f\"{len(top_words)} unique words represent 50% of the total words.\")\n",
        "print(\"These words are:\", top_words)\n",
        "\n"
      ],
      "metadata": {
        "colab": {
          "base_uri": "https://localhost:8080/"
        },
        "id": "_EU7MEdOT0Mv",
        "outputId": "87b7ea1d-5514-476a-b2ae-1334e26902f7"
      },
      "execution_count": 6,
      "outputs": [
        {
          "output_type": "stream",
          "name": "stdout",
          "text": [
            "48 unique words represent 50% of the total words.\n",
            "These words are: ['the', 'and', 'our', 'of', 'we', 'to', 'that', 'a', 'for', 'not', 'is', 'us', 'in', 'are', 'will', 'must', 'this', 'or', 'with', 'can', 'but', 'all', 'as', 'by', 'those', 'it', 'people', 'these', 'be', 'they', 'from', 'time', 'have', 'do', 'america', 'who', 'you', 'what', 'together', 'an', 'more', 'on', 'when', 'country', 'make', 'every', 'so', 'citizens']\n"
          ]
        }
      ]
    },
    {
      "cell_type": "markdown",
      "source": [
        "This one property of natural language, since a small subset of words accounts for a disproportionately large portion of text. In this case, just 48 unique words, with many of them being common function words like \"the\", \"and\", \"we\", and \"to\" make up half of the entire inaugural speech. We can already see how this aligns with the principles of Zipf's Law.\n",
        "\n",
        "As a different analysis, we can see that the mix of pronouns (we, our, us), modal verbs (must, will, can), and unifying terms (together, citizens, America) also reflects the inclusive tone and forward looking style of president Obama."
      ],
      "metadata": {
        "id": "I1EhRVHkXqqh"
      }
    },
    {
      "cell_type": "code",
      "source": [
        "top_20 = fdist.most_common(20)\n",
        "print(\"Top 20 most frequent words:\")\n",
        "for word, count in top_20:\n",
        "    print(f\"{word}: {count}\")\n"
      ],
      "metadata": {
        "colab": {
          "base_uri": "https://localhost:8080/"
        },
        "id": "fyGwHAnT2efo",
        "outputId": "c223a082-640a-4ebe-c877-47d2f6374285"
      },
      "execution_count": 7,
      "outputs": [
        {
          "output_type": "stream",
          "name": "stdout",
          "text": [
            "Top 20 most frequent words:\n",
            "the: 104\n",
            "and: 88\n",
            "our: 75\n",
            "of: 69\n",
            "we: 69\n",
            "to: 65\n",
            "that: 56\n",
            "a: 37\n",
            "for: 27\n",
            "not: 26\n",
            "is: 23\n",
            "us: 21\n",
            "in: 21\n",
            "are: 21\n",
            "will: 20\n",
            "must: 17\n",
            "this: 13\n",
            "or: 13\n",
            "with: 13\n",
            "can: 13\n"
          ]
        }
      ]
    },
    {
      "cell_type": "markdown",
      "source": [
        "## Plot: Frequency of Top 200 Words"
      ],
      "metadata": {
        "id": "6eyWPaRn4nPI"
      }
    },
    {
      "cell_type": "code",
      "source": [
        "import matplotlib.pyplot as plt\n",
        "\n",
        "# top 200 words\n",
        "top_200 = fdist.most_common(200)\n",
        "\n",
        "# plotting\n",
        "words_200 = [word for word, freq in top_200]\n",
        "freqs_200 = [freq for word, freq in top_200]\n",
        "\n",
        "plt.figure(figsize=(14, 6))\n",
        "plt.plot(freqs_200)\n",
        "plt.title(\"Relative Frequency of Top 200 Words\")\n",
        "plt.xlabel(\"Rank\")\n",
        "plt.ylabel(\"Frequency\")\n",
        "plt.grid(True)\n",
        "plt.show()\n"
      ],
      "metadata": {
        "colab": {
          "base_uri": "https://localhost:8080/",
          "height": 564
        },
        "id": "zBvcp0gOT-J4",
        "outputId": "f0c16ea6-f7ff-448c-ed79-b475251abe59"
      },
      "execution_count": 10,
      "outputs": [
        {
          "output_type": "display_data",
          "data": {
            "text/plain": [
              "<Figure size 1400x600 with 1 Axes>"
            ],
            "image/png": "[encoded data removed]"
          },
          "metadata": {}
        }
      ]
    },
    {
      "cell_type": "markdown",
      "source": [
        "The plot shows  a sharp drop from the most frequent word, confirming our earlier observation that a handful of words appear far more often than others. The curve flattens significant after rank 25 and seems to remain flatten after rank 125."
      ],
      "metadata": {
        "id": "Almmx1C0X34J"
      }
    },
    {
      "cell_type": "markdown",
      "source": [
        "## Plot: Zipf's Law Demonstration"
      ],
      "metadata": {
        "id": "cx51_YbZ4rW9"
      }
    },
    {
      "cell_type": "code",
      "source": [
        "import numpy as np\n",
        "\n",
        "ranks = np.arange(1, 201)\n",
        "log_ranks = np.log(ranks)\n",
        "log_freqs = np.log(freqs_200)\n",
        "\n",
        "plt.figure(figsize=(8, 5))\n",
        "plt.plot(log_ranks, log_freqs, marker='o')\n",
        "plt.title(\"Zipf's Law: log(Frequency) vs. log(Rank)\")\n",
        "plt.xlabel(\"log(Rank)\")\n",
        "plt.ylabel(\"log(Frequency)\")\n",
        "plt.grid(True)\n",
        "plt.show()\n"
      ],
      "metadata": {
        "colab": {
          "base_uri": "https://localhost:8080/",
          "height": 487
        },
        "id": "Mt1ma9xRUlKw",
        "outputId": "c6188609-7b92-4890-9a5d-5aab4d2e4416"
      },
      "execution_count": 11,
      "outputs": [
        {
          "output_type": "display_data",
          "data": {
            "text/plain": [
              "<Figure size 800x500 with 1 Axes>"
            ],
            "image/png": "[encoded data removed]"
          },
          "metadata": {}
        }
      ]
    },
    {
      "cell_type": "markdown",
      "source": [
        "We can see a nearly-linear trend in the log-log plot supporting Zipf's Law:  word frequency is inversely proportional to its rank. Although there's some deviation in the lower ranks, the overall pattern aligns with natural language behavior."
      ],
      "metadata": {
        "id": "PdeV7RVAX7oJ"
      }
    },
    {
      "cell_type": "markdown",
      "source": [
        "## Differences from all corpora\n",
        "\n",
        "While the speech we analyzed follows Zipf's Law, the inaugural corpus overrepresents formal, political, and unifying language. Words like \"freedom\", nation\", \"citizens\", \"America\", \"together\", and \"must\" appear more frequently here than they would in general speech or writing.\n",
        "\n",
        "In contrast, general corpora (like news, fiction, or social media) would show higher frequencies of everyday vocabulary, idioms, slangs, and verbs describing a wider variety of actions and contexts.\n",
        "\n",
        "We can also see the inaugural corpus as more rhetorical and persuasive, with frequent use of inclusive pronouns (we, our, us) and modal verbs (must, will, can) that emphasize vision and responsibility, which might be less common in typical corpora."
      ],
      "metadata": {
        "id": "oUzumJkZ4w4p"
      }
    }
  ]
}