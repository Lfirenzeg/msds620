{
  "nbformat": 4,
  "nbformat_minor": 0,
  "metadata": {
    "colab": {
      "provenance": [],
      "authorship_tag": "ABX9TyMW3473HUb49vUpilF7yvEh",
      "include_colab_link": true
    },
    "kernelspec": {
      "name": "python3",
      "display_name": "Python 3"
    },
    "language_info": {
      "name": "python"
    }
  },
  "cells": [
    {
      "cell_type": "markdown",
      "metadata": {
        "id": "view-in-github",
        "colab_type": "text"
      },
      "source": [
        "<a href=\"https://colab.research.google.com/github/Lfirenzeg/msds620/blob/main/Week%206/Data_620_LFMG_Document_Classification.ipynb\" target=\"_parent\"><img src=\"https://colab.research.google.com/assets/colab-badge.svg\" alt=\"Open In Colab\"/></a>"
      ]
    },
    {
      "cell_type": "code",
      "execution_count": null,
      "metadata": {
        "id": "ZSQWVYR0G4UA"
      },
      "outputs": [],
      "source": []
    },
    {
      "cell_type": "markdown",
      "source": [
        "# Data 620\n",
        "## Assignment: Document Classification\n",
        "\n",
        "### By Luis Munoz Grass\n",
        "\n",
        "#### Instructions\n",
        "\n",
        "It can be useful to be able to classify new \"test\" documents using already classified \"training\" documents.  A common example is using a corpus of labeled spam and ham (non-spam) e-mails to predict whether or not a new document is spam.  Here is one example of such data:  UCI Machine Learning Repository: Spambase Data Set\n",
        "\n",
        "For this project, you can either use the above dataset to predict the class of new documents (either withheld from the training dataset or from another source such as your own spam folder).\n",
        "\n",
        "For more adventurous students, you are welcome (encouraged!) to come up a different set of documents (including scraped web pages!?) that have already been classified (e.g. tagged), then analyze these documents to predict how new documents should be classified.\n",
        "\n",
        "## Solution"
      ],
      "metadata": {
        "id": "bQq-sxmiG9eo"
      }
    },
    {
      "cell_type": "code",
      "source": [
        "# to install dependencies\n",
        "!pip install ucimlrepo scikit-learn pandas"
      ],
      "metadata": {
        "colab": {
          "base_uri": "https://localhost:8080/",
          "height": 0
        },
        "id": "WNl1rozGHPmB",
        "outputId": "c596a88a-9626-4011-df15-7553f0b118cb"
      },
      "execution_count": 1,
      "outputs": [
        {
          "output_type": "stream",
          "name": "stdout",
          "text": [
            "Collecting ucimlrepo\n",
            "  Downloading ucimlrepo-0.0.7-py3-none-any.whl.metadata (5.5 kB)\n",
            "Requirement already satisfied: scikit-learn in /usr/local/lib/python3.11/dist-packages (1.6.1)\n",
            "Requirement already satisfied: pandas in /usr/local/lib/python3.11/dist-packages (2.2.2)\n",
            "Requirement already satisfied: certifi>=2020.12.5 in /usr/local/lib/python3.11/dist-packages (from ucimlrepo) (2025.7.9)\n",
            "Requirement already satisfied: numpy>=1.19.5 in /usr/local/lib/python3.11/dist-packages (from scikit-learn) (2.0.2)\n",
            "Requirement already satisfied: scipy>=1.6.0 in /usr/local/lib/python3.11/dist-packages (from scikit-learn) (1.15.3)\n",
            "Requirement already satisfied: joblib>=1.2.0 in /usr/local/lib/python3.11/dist-packages (from scikit-learn) (1.5.1)\n",
            "Requirement already satisfied: threadpoolctl>=3.1.0 in /usr/local/lib/python3.11/dist-packages (from scikit-learn) (3.6.0)\n",
            "Requirement already satisfied: python-dateutil>=2.8.2 in /usr/local/lib/python3.11/dist-packages (from pandas) (2.9.0.post0)\n",
            "Requirement already satisfied: pytz>=2020.1 in /usr/local/lib/python3.11/dist-packages (from pandas) (2025.2)\n",
            "Requirement already satisfied: tzdata>=2022.7 in /usr/local/lib/python3.11/dist-packages (from pandas) (2025.2)\n",
            "Requirement already satisfied: six>=1.5 in /usr/local/lib/python3.11/dist-packages (from python-dateutil>=2.8.2->pandas) (1.17.0)\n",
            "Downloading ucimlrepo-0.0.7-py3-none-any.whl (8.0 kB)\n",
            "Installing collected packages: ucimlrepo\n",
            "Successfully installed ucimlrepo-0.0.7\n"
          ]
        }
      ]
    },
    {
      "cell_type": "code",
      "source": [
        "# imports\n",
        "import pandas as pd\n",
        "import numpy as np\n",
        "import joblib\n",
        "from ucimlrepo import fetch_ucirepo\n",
        "from sklearn.model_selection import train_test_split, GridSearchCV, cross_val_score\n",
        "from sklearn.preprocessing import StandardScaler\n",
        "from sklearn.pipeline import Pipeline\n",
        "from sklearn.linear_model import LogisticRegression\n",
        "from sklearn.inspection import permutation_importance\n",
        "from sklearn.naive_bayes import MultinomialNB\n",
        "from sklearn.ensemble import RandomForestClassifier\n",
        "from sklearn.metrics import (\n",
        "    accuracy_score,\n",
        "    precision_score,\n",
        "    recall_score,\n",
        "    f1_score,\n",
        "    confusion_matrix,\n",
        "    classification_report,\n",
        "    roc_auc_score\n",
        ")\n"
      ],
      "metadata": {
        "id": "uc3vqwQsHfdb"
      },
      "execution_count": 38,
      "outputs": []
    },
    {
      "cell_type": "markdown",
      "source": [
        "## Method"
      ],
      "metadata": {
        "id": "PxbdyURHaqY6"
      }
    },
    {
      "cell_type": "code",
      "source": [
        "# fetching the dataset\n",
        "spambase = fetch_ucirepo(id=94)\n",
        "X = spambase.data.features\n",
        "y = spambase.data.targets\n",
        "\n",
        "print(f\"Dataset shape: {X.shape}\")\n",
        "print(\"Class distribution:\")\n",
        "print(y.value_counts())"
      ],
      "metadata": {
        "colab": {
          "base_uri": "https://localhost:8080/",
          "height": 0
        },
        "id": "miHkvqwfHtAZ",
        "outputId": "e8d22114-60b3-4b58-f2a1-980430944fd0"
      },
      "execution_count": 27,
      "outputs": [
        {
          "output_type": "stream",
          "name": "stdout",
          "text": [
            "Dataset shape: (4601, 57)\n",
            "Class distribution:\n",
            "Class\n",
            "0        2788\n",
            "1        1813\n",
            "Name: count, dtype: int64\n"
          ]
        }
      ]
    },
    {
      "cell_type": "code",
      "source": [
        "# Variable types\n",
        "print(spambase.data.features.dtypes)"
      ],
      "metadata": {
        "colab": {
          "base_uri": "https://localhost:8080/",
          "height": 0
        },
        "id": "Auym1QngJipG",
        "outputId": "017ccb2a-000c-4b13-9d27-61e15569a83e"
      },
      "execution_count": 15,
      "outputs": [
        {
          "output_type": "stream",
          "name": "stdout",
          "text": [
            "word_freq_make                float64\n",
            "word_freq_address             float64\n",
            "word_freq_all                 float64\n",
            "word_freq_3d                  float64\n",
            "word_freq_our                 float64\n",
            "word_freq_over                float64\n",
            "word_freq_remove              float64\n",
            "word_freq_internet            float64\n",
            "word_freq_order               float64\n",
            "word_freq_mail                float64\n",
            "word_freq_receive             float64\n",
            "word_freq_will                float64\n",
            "word_freq_people              float64\n",
            "word_freq_report              float64\n",
            "word_freq_addresses           float64\n",
            "word_freq_free                float64\n",
            "word_freq_business            float64\n",
            "word_freq_email               float64\n",
            "word_freq_you                 float64\n",
            "word_freq_credit              float64\n",
            "word_freq_your                float64\n",
            "word_freq_font                float64\n",
            "word_freq_000                 float64\n",
            "word_freq_money               float64\n",
            "word_freq_hp                  float64\n",
            "word_freq_hpl                 float64\n",
            "word_freq_george              float64\n",
            "word_freq_650                 float64\n",
            "word_freq_lab                 float64\n",
            "word_freq_labs                float64\n",
            "word_freq_telnet              float64\n",
            "word_freq_857                 float64\n",
            "word_freq_data                float64\n",
            "word_freq_415                 float64\n",
            "word_freq_85                  float64\n",
            "word_freq_technology          float64\n",
            "word_freq_1999                float64\n",
            "word_freq_parts               float64\n",
            "word_freq_pm                  float64\n",
            "word_freq_direct              float64\n",
            "word_freq_cs                  float64\n",
            "word_freq_meeting             float64\n",
            "word_freq_original            float64\n",
            "word_freq_project             float64\n",
            "word_freq_re                  float64\n",
            "word_freq_edu                 float64\n",
            "word_freq_table               float64\n",
            "word_freq_conference          float64\n",
            "char_freq_;                   float64\n",
            "char_freq_(                   float64\n",
            "char_freq_[                   float64\n",
            "char_freq_!                   float64\n",
            "char_freq_$                   float64\n",
            "char_freq_#                   float64\n",
            "capital_run_length_average    float64\n",
            "capital_run_length_longest      int64\n",
            "capital_run_length_total        int64\n",
            "dtype: object\n"
          ]
        }
      ]
    },
    {
      "cell_type": "markdown",
      "source": [
        "It looks like the features in the data set are manually selected lexical and formatting cues. So instead of raw text what is used is counts of \"spammy\" words (like free, credit), numbers (85, 415, 650), punctuation (!, $, #), and capitalization patterns (average run length, longest run)."
      ],
      "metadata": {
        "id": "gxV2twlWUq8A"
      }
    },
    {
      "cell_type": "code",
      "source": [
        "# splitting into train and test sets\n",
        "X_train, X_test, y_train, y_test = train_test_split(\n",
        "    X, y,\n",
        "    test_size=0.20,\n",
        "    random_state=42,\n",
        "    stratify=y\n",
        ")"
      ],
      "metadata": {
        "id": "CxKNAQ2wH6dh"
      },
      "execution_count": 4,
      "outputs": []
    },
    {
      "cell_type": "code",
      "source": [
        "# building a pipeline both scaling and applying logistic regression\n",
        "pipeline = Pipeline([\n",
        "    ('scaler', StandardScaler()),\n",
        "    ('clf', LogisticRegression(solver='liblinear', max_iter=1000))\n",
        "])"
      ],
      "metadata": {
        "id": "UIN7Ur9TH-oX"
      },
      "execution_count": 5,
      "outputs": []
    },
    {
      "cell_type": "code",
      "source": [
        "# hyperparameter tuning to find best C via 5‑fold CV optimizing F1\n",
        "param_grid = { 'clf__C': [0.01, 0.1, 1, 10] }\n",
        "grid = GridSearchCV(\n",
        "    pipeline,\n",
        "    param_grid,\n",
        "    cv=5,\n",
        "    scoring='f1',\n",
        "    n_jobs=-1,\n",
        "    verbose=1\n",
        ")\n",
        "grid.fit(X_train, y_train)"
      ],
      "metadata": {
        "colab": {
          "base_uri": "https://localhost:8080/",
          "height": 493
        },
        "id": "XlJsvKi_IRJ8",
        "outputId": "f47c8d0f-4565-4c78-f585-c57bc7e6a22b"
      },
      "execution_count": 7,
      "outputs": [
        {
          "output_type": "stream",
          "name": "stdout",
          "text": [
            "Fitting 5 folds for each of 4 candidates, totalling 20 fits\n"
          ]
        },
        {
          "output_type": "stream",
          "name": "stderr",
          "text": [
            "/usr/local/lib/python3.11/dist-packages/sklearn/utils/validation.py:1408: DataConversionWarning: A column-vector y was passed when a 1d array was expected. Please change the shape of y to (n_samples, ), for example using ravel().\n",
            "  y = column_or_1d(y, warn=True)\n"
          ]
        },
        {
          "output_type": "execute_result",
          "data": {
            "text/plain": [
              "GridSearchCV(cv=5,\n",
              "             estimator=Pipeline(steps=[('scaler', StandardScaler()),\n",
              "                                       ('clf',\n",
              "                                        LogisticRegression(max_iter=1000,\n",
              "                                                           solver='liblinear'))]),\n",
              "             n_jobs=-1, param_grid={'clf__C': [0.01, 0.1, 1, 10]}, scoring='f1',\n",
              "             verbose=1)"
            ],
            "text/html": [
              "<style>#sk-container-id-1 {\n",
              "  /* Definition of color scheme common for light and dark mode */\n",
              "  --sklearn-color-text: #000;\n",
              "  --sklearn-color-text-muted: #666;\n",
              "  --sklearn-color-line: gray;\n",
              "  /* Definition of color scheme for unfitted estimators */\n",
              "  --sklearn-color-unfitted-level-0: #fff5e6;\n",
              "  --sklearn-color-unfitted-level-1: #f6e4d2;\n",
              "  --sklearn-color-unfitted-level-2: #ffe0b3;\n",
              "  --sklearn-color-unfitted-level-3: chocolate;\n",
              "  /* Definition of color scheme for fitted estimators */\n",
              "  --sklearn-color-fitted-level-0: #f0f8ff;\n",
              "  --sklearn-color-fitted-level-1: #d4ebff;\n",
              "  --sklearn-color-fitted-level-2: #b3dbfd;\n",
              "  --sklearn-color-fitted-level-3: cornflowerblue;\n",
              "\n",
              "  /* Specific color for light theme */\n",
              "  --sklearn-color-text-on-default-background: var(--sg-text-color, var(--theme-code-foreground, var(--jp-content-font-color1, black)));\n",
              "  --sklearn-color-background: var(--sg-background-color, var(--theme-background, var(--jp-layout-color0, white)));\n",
              "  --sklearn-color-border-box: var(--sg-text-color, var(--theme-code-foreground, var(--jp-content-font-color1, black)));\n",
              "  --sklearn-color-icon: #696969;\n",
              "\n",
              "  @media (prefers-color-scheme: dark) {\n",
              "    /* Redefinition of color scheme for dark theme */\n",
              "    --sklearn-color-text-on-default-background: var(--sg-text-color, var(--theme-code-foreground, var(--jp-content-font-color1, white)));\n",
              "    --sklearn-color-background: var(--sg-background-color, var(--theme-background, var(--jp-layout-color0, #111)));\n",
              "    --sklearn-color-border-box: var(--sg-text-color, var(--theme-code-foreground, var(--jp-content-font-color1, white)));\n",
              "    --sklearn-color-icon: #878787;\n",
              "  }\n",
              "}\n",
              "\n",
              "#sk-container-id-1 {\n",
              "  color: var(--sklearn-color-text);\n",
              "}\n",
              "\n",
              "#sk-container-id-1 pre {\n",
              "  padding: 0;\n",
              "}\n",
              "\n",
              "#sk-container-id-1 input.sk-hidden--visually {\n",
              "  border: 0;\n",
              "  clip: rect(1px 1px 1px 1px);\n",
              "  clip: rect(1px, 1px, 1px, 1px);\n",
              "  height: 1px;\n",
              "  margin: -1px;\n",
              "  overflow: hidden;\n",
              "  padding: 0;\n",
              "  position: absolute;\n",
              "  width: 1px;\n",
              "}\n",
              "\n",
              "#sk-container-id-1 div.sk-dashed-wrapped {\n",
              "  border: 1px dashed var(--sklearn-color-line);\n",
              "  margin: 0 0.4em 0.5em 0.4em;\n",
              "  box-sizing: border-box;\n",
              "  padding-bottom: 0.4em;\n",
              "  background-color: var(--sklearn-color-background);\n",
              "}\n",
              "\n",
              "#sk-container-id-1 div.sk-container {\n",
              "  /* jupyter's `normalize.less` sets `[hidden] { display: none; }`\n",
              "     but bootstrap.min.css set `[hidden] { display: none !important; }`\n",
              "     so we also need the `!important` here to be able to override the\n",
              "     default hidden behavior on the sphinx rendered scikit-learn.org.\n",
              "     See: https://github.com/scikit-learn/scikit-learn/issues/21755 */\n",
              "  display: inline-block !important;\n",
              "  position: relative;\n",
              "}\n",
              "\n",
              "#sk-container-id-1 div.sk-text-repr-fallback {\n",
              "  display: none;\n",
              "}\n",
              "\n",
              "div.sk-parallel-item,\n",
              "div.sk-serial,\n",
              "div.sk-item {\n",
              "  /* draw centered vertical line to link estimators */\n",
              "  background-image: linear-gradient(var(--sklearn-color-text-on-default-background), var(--sklearn-color-text-on-default-background));\n",
              "  background-size: 2px 100%;\n",
              "  background-repeat: no-repeat;\n",
              "  background-position: center center;\n",
              "}\n",
              "\n",
              "/* Parallel-specific style estimator block */\n",
              "\n",
              "#sk-container-id-1 div.sk-parallel-item::after {\n",
              "  content: \"\";\n",
              "  width: 100%;\n",
              "  border-bottom: 2px solid var(--sklearn-color-text-on-default-background);\n",
              "  flex-grow: 1;\n",
              "}\n",
              "\n",
              "#sk-container-id-1 div.sk-parallel {\n",
              "  display: flex;\n",
              "  align-items: stretch;\n",
              "  justify-content: center;\n",
              "  background-color: var(--sklearn-color-background);\n",
              "  position: relative;\n",
              "}\n",
              "\n",
              "#sk-container-id-1 div.sk-parallel-item {\n",
              "  display: flex;\n",
              "  flex-direction: column;\n",
              "}\n",
              "\n",
              "#sk-container-id-1 div.sk-parallel-item:first-child::after {\n",
              "  align-self: flex-end;\n",
              "  width: 50%;\n",
              "}\n",
              "\n",
              "#sk-container-id-1 div.sk-parallel-item:last-child::after {\n",
              "  align-self: flex-start;\n",
              "  width: 50%;\n",
              "}\n",
              "\n",
              "#sk-container-id-1 div.sk-parallel-item:only-child::after {\n",
              "  width: 0;\n",
              "}\n",
              "\n",
              "/* Serial-specific style estimator block */\n",
              "\n",
              "#sk-container-id-1 div.sk-serial {\n",
              "  display: flex;\n",
              "  flex-direction: column;\n",
              "  align-items: center;\n",
              "  background-color: var(--sklearn-color-background);\n",
              "  padding-right: 1em;\n",
              "  padding-left: 1em;\n",
              "}\n",
              "\n",
              "\n",
              "/* Toggleable style: style used for estimator/Pipeline/ColumnTransformer box that is\n",
              "clickable and can be expanded/collapsed.\n",
              "- Pipeline and ColumnTransformer use this feature and define the default style\n",
              "- Estimators will overwrite some part of the style using the `sk-estimator` class\n",
              "*/\n",
              "\n",
              "/* Pipeline and ColumnTransformer style (default) */\n",
              "\n",
              "#sk-container-id-1 div.sk-toggleable {\n",
              "  /* Default theme specific background. It is overwritten whether we have a\n",
              "  specific estimator or a Pipeline/ColumnTransformer */\n",
              "  background-color: var(--sklearn-color-background);\n",
              "}\n",
              "\n",
              "/* Toggleable label */\n",
              "#sk-container-id-1 label.sk-toggleable__label {\n",
              "  cursor: pointer;\n",
              "  display: flex;\n",
              "  width: 100%;\n",
              "  margin-bottom: 0;\n",
              "  padding: 0.5em;\n",
              "  box-sizing: border-box;\n",
              "  text-align: center;\n",
              "  align-items: start;\n",
              "  justify-content: space-between;\n",
              "  gap: 0.5em;\n",
              "}\n",
              "\n",
              "#sk-container-id-1 label.sk-toggleable__label .caption {\n",
              "  font-size: 0.6rem;\n",
              "  font-weight: lighter;\n",
              "  color: var(--sklearn-color-text-muted);\n",
              "}\n",
              "\n",
              "#sk-container-id-1 label.sk-toggleable__label-arrow:before {\n",
              "  /* Arrow on the left of the label */\n",
              "  content: \"▸\";\n",
              "  float: left;\n",
              "  margin-right: 0.25em;\n",
              "  color: var(--sklearn-color-icon);\n",
              "}\n",
              "\n",
              "#sk-container-id-1 label.sk-toggleable__label-arrow:hover:before {\n",
              "  color: var(--sklearn-color-text);\n",
              "}\n",
              "\n",
              "/* Toggleable content - dropdown */\n",
              "\n",
              "#sk-container-id-1 div.sk-toggleable__content {\n",
              "  max-height: 0;\n",
              "  max-width: 0;\n",
              "  overflow: hidden;\n",
              "  text-align: left;\n",
              "  /* unfitted */\n",
              "  background-color: var(--sklearn-color-unfitted-level-0);\n",
              "}\n",
              "\n",
              "#sk-container-id-1 div.sk-toggleable__content.fitted {\n",
              "  /* fitted */\n",
              "  background-color: var(--sklearn-color-fitted-level-0);\n",
              "}\n",
              "\n",
              "#sk-container-id-1 div.sk-toggleable__content pre {\n",
              "  margin: 0.2em;\n",
              "  border-radius: 0.25em;\n",
              "  color: var(--sklearn-color-text);\n",
              "  /* unfitted */\n",
              "  background-color: var(--sklearn-color-unfitted-level-0);\n",
              "}\n",
              "\n",
              "#sk-container-id-1 div.sk-toggleable__content.fitted pre {\n",
              "  /* unfitted */\n",
              "  background-color: var(--sklearn-color-fitted-level-0);\n",
              "}\n",
              "\n",
              "#sk-container-id-1 input.sk-toggleable__control:checked~div.sk-toggleable__content {\n",
              "  /* Expand drop-down */\n",
              "  max-height: 200px;\n",
              "  max-width: 100%;\n",
              "  overflow: auto;\n",
              "}\n",
              "\n",
              "#sk-container-id-1 input.sk-toggleable__control:checked~label.sk-toggleable__label-arrow:before {\n",
              "  content: \"▾\";\n",
              "}\n",
              "\n",
              "/* Pipeline/ColumnTransformer-specific style */\n",
              "\n",
              "#sk-container-id-1 div.sk-label input.sk-toggleable__control:checked~label.sk-toggleable__label {\n",
              "  color: var(--sklearn-color-text);\n",
              "  background-color: var(--sklearn-color-unfitted-level-2);\n",
              "}\n",
              "\n",
              "#sk-container-id-1 div.sk-label.fitted input.sk-toggleable__control:checked~label.sk-toggleable__label {\n",
              "  background-color: var(--sklearn-color-fitted-level-2);\n",
              "}\n",
              "\n",
              "/* Estimator-specific style */\n",
              "\n",
              "/* Colorize estimator box */\n",
              "#sk-container-id-1 div.sk-estimator input.sk-toggleable__control:checked~label.sk-toggleable__label {\n",
              "  /* unfitted */\n",
              "  background-color: var(--sklearn-color-unfitted-level-2);\n",
              "}\n",
              "\n",
              "#sk-container-id-1 div.sk-estimator.fitted input.sk-toggleable__control:checked~label.sk-toggleable__label {\n",
              "  /* fitted */\n",
              "  background-color: var(--sklearn-color-fitted-level-2);\n",
              "}\n",
              "\n",
              "#sk-container-id-1 div.sk-label label.sk-toggleable__label,\n",
              "#sk-container-id-1 div.sk-label label {\n",
              "  /* The background is the default theme color */\n",
              "  color: var(--sklearn-color-text-on-default-background);\n",
              "}\n",
              "\n",
              "/* On hover, darken the color of the background */\n",
              "#sk-container-id-1 div.sk-label:hover label.sk-toggleable__label {\n",
              "  color: var(--sklearn-color-text);\n",
              "  background-color: var(--sklearn-color-unfitted-level-2);\n",
              "}\n",
              "\n",
              "/* Label box, darken color on hover, fitted */\n",
              "#sk-container-id-1 div.sk-label.fitted:hover label.sk-toggleable__label.fitted {\n",
              "  color: var(--sklearn-color-text);\n",
              "  background-color: var(--sklearn-color-fitted-level-2);\n",
              "}\n",
              "\n",
              "/* Estimator label */\n",
              "\n",
              "#sk-container-id-1 div.sk-label label {\n",
              "  font-family: monospace;\n",
              "  font-weight: bold;\n",
              "  display: inline-block;\n",
              "  line-height: 1.2em;\n",
              "}\n",
              "\n",
              "#sk-container-id-1 div.sk-label-container {\n",
              "  text-align: center;\n",
              "}\n",
              "\n",
              "/* Estimator-specific */\n",
              "#sk-container-id-1 div.sk-estimator {\n",
              "  font-family: monospace;\n",
              "  border: 1px dotted var(--sklearn-color-border-box);\n",
              "  border-radius: 0.25em;\n",
              "  box-sizing: border-box;\n",
              "  margin-bottom: 0.5em;\n",
              "  /* unfitted */\n",
              "  background-color: var(--sklearn-color-unfitted-level-0);\n",
              "}\n",
              "\n",
              "#sk-container-id-1 div.sk-estimator.fitted {\n",
              "  /* fitted */\n",
              "  background-color: var(--sklearn-color-fitted-level-0);\n",
              "}\n",
              "\n",
              "/* on hover */\n",
              "#sk-container-id-1 div.sk-estimator:hover {\n",
              "  /* unfitted */\n",
              "  background-color: var(--sklearn-color-unfitted-level-2);\n",
              "}\n",
              "\n",
              "#sk-container-id-1 div.sk-estimator.fitted:hover {\n",
              "  /* fitted */\n",
              "  background-color: var(--sklearn-color-fitted-level-2);\n",
              "}\n",
              "\n",
              "/* Specification for estimator info (e.g. \"i\" and \"?\") */\n",
              "\n",
              "/* Common style for \"i\" and \"?\" */\n",
              "\n",
              ".sk-estimator-doc-link,\n",
              "a:link.sk-estimator-doc-link,\n",
              "a:visited.sk-estimator-doc-link {\n",
              "  float: right;\n",
              "  font-size: smaller;\n",
              "  line-height: 1em;\n",
              "  font-family: monospace;\n",
              "  background-color: var(--sklearn-color-background);\n",
              "  border-radius: 1em;\n",
              "  height: 1em;\n",
              "  width: 1em;\n",
              "  text-decoration: none !important;\n",
              "  margin-left: 0.5em;\n",
              "  text-align: center;\n",
              "  /* unfitted */\n",
              "  border: var(--sklearn-color-unfitted-level-1) 1pt solid;\n",
              "  color: var(--sklearn-color-unfitted-level-1);\n",
              "}\n",
              "\n",
              ".sk-estimator-doc-link.fitted,\n",
              "a:link.sk-estimator-doc-link.fitted,\n",
              "a:visited.sk-estimator-doc-link.fitted {\n",
              "  /* fitted */\n",
              "  border: var(--sklearn-color-fitted-level-1) 1pt solid;\n",
              "  color: var(--sklearn-color-fitted-level-1);\n",
              "}\n",
              "\n",
              "/* On hover */\n",
              "div.sk-estimator:hover .sk-estimator-doc-link:hover,\n",
              ".sk-estimator-doc-link:hover,\n",
              "div.sk-label-container:hover .sk-estimator-doc-link:hover,\n",
              ".sk-estimator-doc-link:hover {\n",
              "  /* unfitted */\n",
              "  background-color: var(--sklearn-color-unfitted-level-3);\n",
              "  color: var(--sklearn-color-background);\n",
              "  text-decoration: none;\n",
              "}\n",
              "\n",
              "div.sk-estimator.fitted:hover .sk-estimator-doc-link.fitted:hover,\n",
              ".sk-estimator-doc-link.fitted:hover,\n",
              "div.sk-label-container:hover .sk-estimator-doc-link.fitted:hover,\n",
              ".sk-estimator-doc-link.fitted:hover {\n",
              "  /* fitted */\n",
              "  background-color: var(--sklearn-color-fitted-level-3);\n",
              "  color: var(--sklearn-color-background);\n",
              "  text-decoration: none;\n",
              "}\n",
              "\n",
              "/* Span, style for the box shown on hovering the info icon */\n",
              ".sk-estimator-doc-link span {\n",
              "  display: none;\n",
              "  z-index: 9999;\n",
              "  position: relative;\n",
              "  font-weight: normal;\n",
              "  right: .2ex;\n",
              "  padding: .5ex;\n",
              "  margin: .5ex;\n",
              "  width: min-content;\n",
              "  min-width: 20ex;\n",
              "  max-width: 50ex;\n",
              "  color: var(--sklearn-color-text);\n",
              "  box-shadow: 2pt 2pt 4pt #999;\n",
              "  /* unfitted */\n",
              "  background: var(--sklearn-color-unfitted-level-0);\n",
              "  border: .5pt solid var(--sklearn-color-unfitted-level-3);\n",
              "}\n",
              "\n",
              ".sk-estimator-doc-link.fitted span {\n",
              "  /* fitted */\n",
              "  background: var(--sklearn-color-fitted-level-0);\n",
              "  border: var(--sklearn-color-fitted-level-3);\n",
              "}\n",
              "\n",
              ".sk-estimator-doc-link:hover span {\n",
              "  display: block;\n",
              "}\n",
              "\n",
              "/* \"?\"-specific style due to the `<a>` HTML tag */\n",
              "\n",
              "#sk-container-id-1 a.estimator_doc_link {\n",
              "  float: right;\n",
              "  font-size: 1rem;\n",
              "  line-height: 1em;\n",
              "  font-family: monospace;\n",
              "  background-color: var(--sklearn-color-background);\n",
              "  border-radius: 1rem;\n",
              "  height: 1rem;\n",
              "  width: 1rem;\n",
              "  text-decoration: none;\n",
              "  /* unfitted */\n",
              "  color: var(--sklearn-color-unfitted-level-1);\n",
              "  border: var(--sklearn-color-unfitted-level-1) 1pt solid;\n",
              "}\n",
              "\n",
              "#sk-container-id-1 a.estimator_doc_link.fitted {\n",
              "  /* fitted */\n",
              "  border: var(--sklearn-color-fitted-level-1) 1pt solid;\n",
              "  color: var(--sklearn-color-fitted-level-1);\n",
              "}\n",
              "\n",
              "/* On hover */\n",
              "#sk-container-id-1 a.estimator_doc_link:hover {\n",
              "  /* unfitted */\n",
              "  background-color: var(--sklearn-color-unfitted-level-3);\n",
              "  color: var(--sklearn-color-background);\n",
              "  text-decoration: none;\n",
              "}\n",
              "\n",
              "#sk-container-id-1 a.estimator_doc_link.fitted:hover {\n",
              "  /* fitted */\n",
              "  background-color: var(--sklearn-color-fitted-level-3);\n",
              "}\n",
              "</style><div id=\"sk-container-id-1\" class=\"sk-top-container\"><div class=\"sk-text-repr-fallback\"><pre>GridSearchCV(cv=5,\n",
              "             estimator=Pipeline(steps=[(&#x27;scaler&#x27;, StandardScaler()),\n",
              "                                       (&#x27;clf&#x27;,\n",
              "                                        LogisticRegression(max_iter=1000,\n",
              "                                                           solver=&#x27;liblinear&#x27;))]),\n",
              "             n_jobs=-1, param_grid={&#x27;clf__C&#x27;: [0.01, 0.1, 1, 10]}, scoring=&#x27;f1&#x27;,\n",
              "             verbose=1)</pre><b>In a Jupyter environment, please rerun this cell to show the HTML representation or trust the notebook. <br />On GitHub, the HTML representation is unable to render, please try loading this page with nbviewer.org.</b></div><div class=\"sk-container\" hidden><div class=\"sk-item sk-dashed-wrapped\"><div class=\"sk-label-container\"><div class=\"sk-label fitted sk-toggleable\"><input class=\"sk-toggleable__control sk-hidden--visually\" id=\"sk-estimator-id-1\" type=\"checkbox\" ><label for=\"sk-estimator-id-1\" class=\"sk-toggleable__label fitted sk-toggleable__label-arrow\"><div><div>GridSearchCV</div></div><div><a class=\"sk-estimator-doc-link fitted\" rel=\"noreferrer\" target=\"_blank\" href=\"https://scikit-learn.org/1.6/modules/generated/sklearn.model_selection.GridSearchCV.html\">?<span>Documentation for GridSearchCV</span></a><span class=\"sk-estimator-doc-link fitted\">i<span>Fitted</span></span></div></label><div class=\"sk-toggleable__content fitted\"><pre>GridSearchCV(cv=5,\n",
              "             estimator=Pipeline(steps=[(&#x27;scaler&#x27;, StandardScaler()),\n",
              "                                       (&#x27;clf&#x27;,\n",
              "                                        LogisticRegression(max_iter=1000,\n",
              "                                                           solver=&#x27;liblinear&#x27;))]),\n",
              "             n_jobs=-1, param_grid={&#x27;clf__C&#x27;: [0.01, 0.1, 1, 10]}, scoring=&#x27;f1&#x27;,\n",
              "             verbose=1)</pre></div> </div></div><div class=\"sk-parallel\"><div class=\"sk-parallel-item\"><div class=\"sk-item\"><div class=\"sk-label-container\"><div class=\"sk-label fitted sk-toggleable\"><input class=\"sk-toggleable__control sk-hidden--visually\" id=\"sk-estimator-id-2\" type=\"checkbox\" ><label for=\"sk-estimator-id-2\" class=\"sk-toggleable__label fitted sk-toggleable__label-arrow\"><div><div>best_estimator_: Pipeline</div></div></label><div class=\"sk-toggleable__content fitted\"><pre>Pipeline(steps=[(&#x27;scaler&#x27;, StandardScaler()),\n",
              "                (&#x27;clf&#x27;,\n",
              "                 LogisticRegression(C=10, max_iter=1000, solver=&#x27;liblinear&#x27;))])</pre></div> </div></div><div class=\"sk-serial\"><div class=\"sk-item\"><div class=\"sk-serial\"><div class=\"sk-item\"><div class=\"sk-estimator fitted sk-toggleable\"><input class=\"sk-toggleable__control sk-hidden--visually\" id=\"sk-estimator-id-3\" type=\"checkbox\" ><label for=\"sk-estimator-id-3\" class=\"sk-toggleable__label fitted sk-toggleable__label-arrow\"><div><div>StandardScaler</div></div><div><a class=\"sk-estimator-doc-link fitted\" rel=\"noreferrer\" target=\"_blank\" href=\"https://scikit-learn.org/1.6/modules/generated/sklearn.preprocessing.StandardScaler.html\">?<span>Documentation for StandardScaler</span></a></div></label><div class=\"sk-toggleable__content fitted\"><pre>StandardScaler()</pre></div> </div></div><div class=\"sk-item\"><div class=\"sk-estimator fitted sk-toggleable\"><input class=\"sk-toggleable__control sk-hidden--visually\" id=\"sk-estimator-id-4\" type=\"checkbox\" ><label for=\"sk-estimator-id-4\" class=\"sk-toggleable__label fitted sk-toggleable__label-arrow\"><div><div>LogisticRegression</div></div><div><a class=\"sk-estimator-doc-link fitted\" rel=\"noreferrer\" target=\"_blank\" href=\"https://scikit-learn.org/1.6/modules/generated/sklearn.linear_model.LogisticRegression.html\">?<span>Documentation for LogisticRegression</span></a></div></label><div class=\"sk-toggleable__content fitted\"><pre>LogisticRegression(C=10, max_iter=1000, solver=&#x27;liblinear&#x27;)</pre></div> </div></div></div></div></div></div></div></div></div></div></div>"
            ]
          },
          "metadata": {},
          "execution_count": 7
        }
      ]
    },
    {
      "cell_type": "code",
      "source": [
        "print(\"Best C:\", grid.best_params_['clf__C'])\n"
      ],
      "metadata": {
        "colab": {
          "base_uri": "https://localhost:8080/",
          "height": 0
        },
        "id": "0YLltpUKIe4_",
        "outputId": "bc6ae117-21e1-496a-dfb8-c479266f9680"
      },
      "execution_count": 10,
      "outputs": [
        {
          "output_type": "stream",
          "name": "stdout",
          "text": [
            "Best C: 10\n"
          ]
        }
      ]
    },
    {
      "cell_type": "markdown",
      "source": [
        "## Results"
      ],
      "metadata": {
        "id": "Pja05MHTatja"
      }
    },
    {
      "cell_type": "code",
      "source": [
        "# now we can evaluate on the hold‑out set\n",
        "y_pred = grid.predict(X_test)\n",
        "print(f\"Accuracy: {accuracy_score(y_test, y_pred):.4f}\\n\")\n",
        "print(\"Classification Report:\")\n",
        "print(classification_report(y_test, y_pred, target_names=['ham','spam']))\n",
        "print(\"Confusion Matrix:\\n\", confusion_matrix(y_test, y_pred))"
      ],
      "metadata": {
        "colab": {
          "base_uri": "https://localhost:8080/",
          "height": 0
        },
        "id": "2-YJflbwIQCd",
        "outputId": "a967e239-dfad-4cbe-c1dc-ad0fe16968c5"
      },
      "execution_count": 8,
      "outputs": [
        {
          "output_type": "stream",
          "name": "stdout",
          "text": [
            "Accuracy: 0.9262\n",
            "\n",
            "Classification Report:\n",
            "              precision    recall  f1-score   support\n",
            "\n",
            "         ham       0.93      0.95      0.94       558\n",
            "        spam       0.92      0.89      0.90       363\n",
            "\n",
            "    accuracy                           0.93       921\n",
            "   macro avg       0.93      0.92      0.92       921\n",
            "weighted avg       0.93      0.93      0.93       921\n",
            "\n",
            "Confusion Matrix:\n",
            " [[530  28]\n",
            " [ 40 323]]\n"
          ]
        }
      ]
    },
    {
      "cell_type": "markdown",
      "source": [
        "So far we get that out of 921 messages, the model correctly labels about 853. That's actually a strong baseline.  Although accuracy alone can mask  the performance for each class, and even more so with a 60/40 ham spam split.\n",
        "\n",
        "Ham precision is 0.93, so of all messages flagged as ham 93% truly were ham.\n",
        "Spam precision is 0.92, so of all messages flagged as spam, 92% truly were spam.\n",
        "\n",
        "F1 Scores: 0.94 for ham and 0.90 for spam, balancing precision/recall. The slightly lower spam F1 indicates we miss a few more spam items relative to how many we catch.\n"
      ],
      "metadata": {
        "id": "N6Cdcru9K2Rz"
      }
    },
    {
      "cell_type": "code",
      "source": [
        "fp = cm[0,1]  # ham misclassified as spam\n",
        "fn = cm[1,0]  # spam misclassified as ham\n",
        "print(f\"\\nFalse Positives (ham classified as spam): {fp}\")\n",
        "print(f\"False Negatives (spam classified as ham): {fn}\")"
      ],
      "metadata": {
        "colab": {
          "base_uri": "https://localhost:8080/",
          "height": 0
        },
        "id": "s3I3DrSfK2rI",
        "outputId": "b99ac28d-8a7a-4b93-feb7-2083416a58cc"
      },
      "execution_count": 31,
      "outputs": [
        {
          "output_type": "stream",
          "name": "stdout",
          "text": [
            "\n",
            "False Positives (ham classified as spam): 28\n",
            "False Negatives (spam classified as ham): 40\n"
          ]
        }
      ]
    },
    {
      "cell_type": "markdown",
      "source": [
        "A higher false negative rate (40 out of 323) for spam means then that roughly 1 in 9 spam emails gets delivered. At the same time false positives may be more damaging (one could miss important mail), we could keep the threshold where it is or even raise it.\n",
        "\n",
        "So we could explore which features are the most useful ones."
      ],
      "metadata": {
        "id": "iXWUA9gpRO4M"
      }
    },
    {
      "cell_type": "code",
      "source": [
        "# we'd need to extract the trained LR step from the pipeline\n",
        "clf = grid.best_estimator_.named_steps['clf']\n",
        "# get feature names (from the original DataFrame X)\n",
        "feature_names = X.columns\n",
        "# pull out the coefficients out of 57\n",
        "coefs = clf.coef_.ravel()\n",
        "# for easy viweing we can build a data frame and sort by absolute weight\n",
        "fi_coef = (\n",
        "    pd.DataFrame({'feature': feature_names,\n",
        "        'coef': coefs,\n",
        "        'abs_coef': np.abs(coefs)})\n",
        "    .sort_values('abs_coef', ascending=False)\n",
        "    .reset_index(drop=True)\n",
        ")\n",
        "\n",
        "print(\"Top 10 features by absolute weight:\")\n",
        "print(fi_coef.head(10))"
      ],
      "metadata": {
        "colab": {
          "base_uri": "https://localhost:8080/",
          "height": 0
        },
        "id": "dnJIyZ08O53f",
        "outputId": "e77ab83e-ec9f-4aec-c0b3-4fe90ca7220a"
      },
      "execution_count": 37,
      "outputs": [
        {
          "output_type": "stream",
          "name": "stdout",
          "text": [
            "Top 10 features by absolute weight:\n",
            "                      feature       coef   abs_coef\n",
            "0            word_freq_george -10.042307  10.042307\n",
            "1               word_freq_415  -5.557715   5.557715\n",
            "2                word_freq_cs  -3.936521   3.936521\n",
            "3                word_freq_hp  -2.817376   2.817376\n",
            "4  capital_run_length_average   2.336231   2.336231\n",
            "5               word_freq_lab  -2.099793   2.099793\n",
            "6                word_freq_3d   2.048932   2.048932\n",
            "7                word_freq_85  -2.008946   2.008946\n",
            "8           word_freq_meeting  -1.749093   1.749093\n",
            "9               word_freq_edu  -1.705858   1.705858\n"
          ]
        }
      ]
    },
    {
      "cell_type": "markdown",
      "source": [
        "The following are strong Ham indicators:\n",
        "\n",
        "- word_freq_george (-10.04), indicating that the word 'george\" almost never shows up in spam.\n",
        "\n",
        "- word_freq_415 (-5.56), possibly an area code or number more commnly seen in personal or business email.\n",
        "\n",
        "The following are strong Spam indicators:\n",
        "\n",
        "- capital_run_length_average (+2.34), which makes sence since spam messages tend to use ALL CAPS more frequently (like \"FREE\", \"URGENT\").\n",
        "\n",
        "- word_freq_3d (+2.05), interesting, so the term 3D seems to appear in more promotional or marketing emails, which can be classified as spam.\n",
        "\n",
        "At this point we can throw in the comparisson with other models: Naive Bayes and Random Forest.\n",
        "\n",
        "## Model Comparison"
      ],
      "metadata": {
        "id": "NGJrYdwETFNU"
      }
    },
    {
      "cell_type": "code",
      "source": [
        "# we'll save our best LR pipeline\n",
        "lr_model = grid.best_estimator_\n",
        "\n",
        "# then define NB and RF pipelines\n",
        "nb_pipeline = Pipeline([\n",
        "    ('clf', MultinomialNB())\n",
        "])\n",
        "\n",
        "rf_pipeline = Pipeline([\n",
        "    ('scaler', StandardScaler()),\n",
        "    ('clf', RandomForestClassifier(n_estimators=100, random_state=42))\n",
        "])"
      ],
      "metadata": {
        "id": "FlN3Uw0mWkQa"
      },
      "execution_count": 41,
      "outputs": []
    },
    {
      "cell_type": "code",
      "source": [
        "# and then evaluate each with 5‑fold CV on the TRAINING data (using y_train.ravel() for 1d array)\n",
        "for name, model in [\n",
        "    ('LogisticRegression', lr_model),\n",
        "    ('MultinomialNB',       nb_pipeline),\n",
        "    ('RandomForest',        rf_pipeline)\n",
        "]:\n",
        "    scores = cross_val_score(\n",
        "        model,\n",
        "        X_train,\n",
        "        y_train.values.ravel(),\n",
        "        cv=5,\n",
        "        scoring='f1',\n",
        "        n_jobs=-1\n",
        "    )\n",
        "    print(f\"{name:20s} CV F1: {scores.mean():.4f} +/- {scores.std():.4f}\")"
      ],
      "metadata": {
        "colab": {
          "base_uri": "https://localhost:8080/",
          "height": 0
        },
        "id": "BGKqa2RjW9hg",
        "outputId": "33b328ee-36b9-4930-860e-68ee5007a9e6"
      },
      "execution_count": 43,
      "outputs": [
        {
          "output_type": "stream",
          "name": "stdout",
          "text": [
            "LogisticRegression   CV F1: 0.9006 +/- 0.0117\n",
            "MultinomialNB        CV F1: 0.7279 +/- 0.0228\n",
            "RandomForest         CV F1: 0.9413 +/- 0.0174\n"
          ]
        }
      ]
    },
    {
      "cell_type": "markdown",
      "source": [
        "Not suprisingly Random Forest performed better than the other 2 models, probably because of its ability to capture nonlinear interactions among word clues and formatting features\n",
        "\n",
        "Finally, we can try to find a pattern in the fake negatives and fake positives."
      ],
      "metadata": {
        "id": "eVUrKqVwXsOg"
      }
    },
    {
      "cell_type": "code",
      "source": [
        "# we go back to building a test‐set data frame with true vs predicted\n",
        "df_test = X_test.copy()\n",
        "df_test['true'] = y_test.values.ravel()\n",
        "df_test['pred'] = y_pred"
      ],
      "metadata": {
        "id": "tVVybJtNXrnD"
      },
      "execution_count": 44,
      "outputs": []
    },
    {
      "cell_type": "code",
      "source": [
        "# False negatives\n",
        "false_negatives = df_test[(df_test['true']==1) & (df_test['pred']==0)]\n",
        "\n",
        "# False positives\n",
        "false_positives = df_test[(df_test['true']==0) & (df_test['pred']==1)]\n",
        "\n",
        "print(f\"\\nFalse Negatives (spam→ham): {len(false_negatives)}\")\n",
        "print(f\"False Positives (ham→spam): {len(false_positives)}\")\n",
        "\n"
      ],
      "metadata": {
        "colab": {
          "base_uri": "https://localhost:8080/",
          "height": 0
        },
        "id": "uhQobE7-X2Eq",
        "outputId": "c684f754-e3fa-43fb-df72-e4fa0c09335b"
      },
      "execution_count": 45,
      "outputs": [
        {
          "output_type": "stream",
          "name": "stdout",
          "text": [
            "\n",
            "False Negatives (spam→ham): 40\n",
            "False Positives (ham→spam): 28\n"
          ]
        }
      ]
    },
    {
      "cell_type": "code",
      "source": [
        "# then we can inspect a few\n",
        "print(\"\\n A few False Negatives\")\n",
        "print(false_negatives.head())\n",
        "\n",
        "print(\"\\n A few False Positives\")\n",
        "print(false_positives.head())"
      ],
      "metadata": {
        "colab": {
          "base_uri": "https://localhost:8080/",
          "height": 0
        },
        "id": "qI2nJDkAX6kl",
        "outputId": "68562a34-f07f-427b-8d99-942fa4c2e54c"
      },
      "execution_count": 46,
      "outputs": [
        {
          "output_type": "stream",
          "name": "stdout",
          "text": [
            "\n",
            " A few False Negatives\n",
            "      word_freq_make  word_freq_address  word_freq_all  word_freq_3d  \\\n",
            "1683            0.14                0.0           0.29           0.0   \n",
            "1687            0.00                0.0           0.00           0.0   \n",
            "773             0.00                0.0           0.00           0.0   \n",
            "1233            0.00                0.0           0.00           0.0   \n",
            "1560            0.00                0.0           1.20           0.0   \n",
            "\n",
            "      word_freq_our  word_freq_over  word_freq_remove  word_freq_internet  \\\n",
            "1683           0.14             0.0               0.0                 0.0   \n",
            "1687           0.00             0.0               0.0                 0.0   \n",
            "773            0.52             0.0               0.0                 0.0   \n",
            "1233           0.00             0.0               0.0                 0.0   \n",
            "1560           0.00             0.0               0.0                 0.0   \n",
            "\n",
            "      word_freq_order  word_freq_mail  ...  char_freq_(  char_freq_[  \\\n",
            "1683              0.0            0.00  ...        0.382          0.0   \n",
            "1687              0.0            0.00  ...        0.589          0.0   \n",
            "773               0.0            0.00  ...        0.077          0.0   \n",
            "1233              0.0            0.33  ...        0.280          0.0   \n",
            "1560              0.0            0.00  ...        0.000          0.0   \n",
            "\n",
            "      char_freq_!  char_freq_$  char_freq_#  capital_run_length_average  \\\n",
            "1683        0.764        0.000          0.0                       2.468   \n",
            "1687        0.000        0.000          0.0                       2.044   \n",
            "773         0.077        0.000          0.0                       1.388   \n",
            "1233        0.112        0.336          0.0                       2.960   \n",
            "1560        0.000        0.000          0.0                       4.000   \n",
            "\n",
            "      capital_run_length_longest  capital_run_length_total  true  pred  \n",
            "1683                          28                       469     1     0  \n",
            "1687                          22                        92     1     0  \n",
            "773                           11                        75     1     0  \n",
            "1233                          19                       222     1     0  \n",
            "1560                          16                        72     1     0  \n",
            "\n",
            "[5 rows x 59 columns]\n",
            "\n",
            " A few False Positives\n",
            "      word_freq_make  word_freq_address  word_freq_all  word_freq_3d  \\\n",
            "4417            0.00               0.00           0.00           0.0   \n",
            "3461            0.00               0.00           0.00           0.0   \n",
            "2586            0.00               0.51           0.00           0.0   \n",
            "4118            0.66               0.66           0.66           0.0   \n",
            "1814            0.00               0.00           0.00           0.0   \n",
            "\n",
            "      word_freq_our  word_freq_over  word_freq_remove  word_freq_internet  \\\n",
            "4417           0.00            0.00               0.0                0.00   \n",
            "3461           0.00            1.03               0.0                2.07   \n",
            "2586           1.02            0.00               0.0                0.51   \n",
            "4118           0.00            0.00               0.0                0.00   \n",
            "1814           0.00            0.00               0.0                0.00   \n",
            "\n",
            "      word_freq_order  word_freq_mail  ...  char_freq_(  char_freq_[  \\\n",
            "4417              0.0           11.11  ...        0.000        0.000   \n",
            "3461              0.0            0.00  ...        0.144        0.072   \n",
            "2586              0.0            0.00  ...        0.071        0.000   \n",
            "4118              0.0            1.33  ...        0.000        0.000   \n",
            "1814              0.0            0.85  ...        0.000        0.000   \n",
            "\n",
            "      char_freq_!  char_freq_$  char_freq_#  capital_run_length_average  \\\n",
            "4417        0.000          0.0          0.0                       1.000   \n",
            "3461        0.000          0.0          0.0                       1.523   \n",
            "2586        0.000          0.0          0.0                       2.076   \n",
            "4118        0.117          0.0          0.0                       2.487   \n",
            "1814        0.149          0.0          0.0                       1.040   \n",
            "\n",
            "      capital_run_length_longest  capital_run_length_total  true  pred  \n",
            "4417                           1                         2     0     1  \n",
            "3461                          11                        64     0     1  \n",
            "2586                           9                       108     0     1  \n",
            "4118                          17                        97     0     1  \n",
            "1814                           2                        26     0     1  \n",
            "\n",
            "[5 rows x 59 columns]\n"
          ]
        }
      ]
    },
    {
      "cell_type": "markdown",
      "source": [
        "- False Negatives: It seems that when the model fails to flag these as spam, it's often because the messages lack the typical promotional keywords associated with spam (free, credit, 000, etc.). In the five examples, every one has zero occurrences of those terms, so the classifier ends ups leaning toward ham, even though other features like the capitalization statistics (long total caps counts) are very much spam like. This implies that more subtly worded or personalized spam, where senders avoid typical marketing keywords will evade detection.\n",
        "\n",
        "- False Positives: On the other hand, we have high frequencies of \"mail\" or \"internet\" tokens, and numbers, that may be newsletter or technical alerts instead of scam. But, the presence of those tokens, combined with some uppercase runs, makes the classifier reach a spam threshold.  "
      ],
      "metadata": {
        "id": "mvm-NU51YjD9"
      }
    }
  ]
}