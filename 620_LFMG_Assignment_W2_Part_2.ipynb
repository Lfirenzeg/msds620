{
  "nbformat": 4,
  "nbformat_minor": 0,
  "metadata": {
    "colab": {
      "provenance": [],
      "authorship_tag": "ABX9TyNnKsIz/iFLPAzuO0pFIE2P",
      "include_colab_link": true
    },
    "kernelspec": {
      "name": "python3",
      "display_name": "Python 3"
    },
    "language_info": {
      "name": "python"
    }
  },
  "cells": [
    {
      "cell_type": "markdown",
      "metadata": {
        "id": "view-in-github",
        "colab_type": "text"
      },
      "source": [
        "<a href=\"https://colab.research.google.com/github/Lfirenzeg/msds620/blob/main/620_LFMG_Assignment_W2_Part_2.ipynb\" target=\"_parent\"><img src=\"https://colab.research.google.com/assets/colab-badge.svg\" alt=\"Open In Colab\"/></a>"
      ]
    },
    {
      "cell_type": "code",
      "execution_count": null,
      "metadata": {
        "id": "YbFLguqhaWgX"
      },
      "outputs": [],
      "source": []
    },
    {
      "cell_type": "markdown",
      "source": [
        "# Data 620\n",
        "# Centrality Measures: Categorical Group Comparison in Network Data\n",
        "\n",
        "### By Luis Munoz Grass\n",
        "\n",
        "This week's assignment is to identify an interesting set of network data that is available on the web (either through web scraping or web APIs) that could be used for analyzing and comparing centrality measures across nodes.  As an additional constraint, there should be at least one categorical variable available for each node (such as “Male” or “Female”; “Republican”, “Democrat,” or “Undecided”, etc.)\n",
        "\n",
        "In addition to identifying your data source, you should create a high level plan that describes how you would load the data for analysis, and describe a hypothetical outcome that could be predicted from comparing degree centrality across categorical groups."
      ],
      "metadata": {
        "id": "UB__poNLaf_m"
      }
    },
    {
      "cell_type": "markdown",
      "source": [
        "## Dataset Source\n",
        "\n",
        "For this assignment, I will use the NYC Open Data Mental Health Facilities dataset, available through the Socrata API at:\n",
        "\n",
        "https://data.cityofnewyork.us/Health/Mental-Health-Facilities/8nqg-ia7v\n",
        "\n",
        "This dataset provides detailed information about mental health service providers in New York City, including fields such as:\n",
        "\n",
        "organization name\n",
        "\n",
        "program name\n",
        "\n",
        "service type\n",
        "\n",
        "borough\n",
        "\n",
        "location\n",
        "\n",
        "This makes the dataset practical for constructing a network based on shared service offerings between facilities. It also includes at least one categorical variable per node: the borough in which the provider is located."
      ],
      "metadata": {
        "id": "JcF8iYxsq5Dm"
      }
    },
    {
      "cell_type": "markdown",
      "source": [
        "## Plan for Network Construction and Analysis\n",
        "\n",
        "**a) Retrieving Data via API**\n",
        "\n",
        "We'll start by using the Socrata Open Data API (SODA) and the sodapy Python package to connect to the dataset.\n",
        "\n",
        "We'll focus on downloading key fields: organization_name, borough, service_type, and optionally program_name.\n",
        "\n",
        "---\n",
        "**b)  Creating the Network**\n",
        "\n",
        "Nodes: Each node will represent a unique mental health facility.\n",
        "\n",
        "Edges: We may connect two facilities if they offer the same type of service (such as providing outpatient therapy or a hotline support).\n",
        "\n",
        "---\n",
        "**c) Node Attributes**\n",
        "\n",
        "Each node will include at least one categorical variable: borough (Manhattan, Brooklyn, etc.)\n",
        "\n",
        "If when we are exploring the data the borough variable does not provide the network creation we anticipate, we could use a second categorical variable  from program_name if facility type can be inferred (let's say hospital vs. nonprofit).\n",
        "\n",
        "---\n",
        "\n",
        "**d) Centrality Analysis**\n",
        "\n",
        "After creating the networ we'll compute degree centrality for each node to assess how interconnected each facility is within the mental health support landscape.\n",
        "\n",
        "Then we can compare centrality scores across boroughs to identify regional differences in service overlap or provider connectivity.\n",
        "\n"
      ],
      "metadata": {
        "id": "SJwDzmkSrTdm"
      }
    },
    {
      "cell_type": "markdown",
      "source": [
        "## Hypothetical Outcome\n",
        "\n",
        "A potential outcome of this analysis could be:\n",
        "\n",
        "Facilities in Manhattan and Brooklyn exhibit higher average degree centrality than those in Staten Island or the Bronx, suggesting a more interconnected service network in central boroughs.\n",
        "\n",
        "Through this hypothesis we can explore greater service availability or higher redundancy in areas with bigger population, while  boroughs with lower centrality could reveal gaps in collaborative care."
      ],
      "metadata": {
        "id": "tYZai4hys2W6"
      }
    },
    {
      "cell_type": "code",
      "source": [],
      "metadata": {
        "id": "EJzH06ZMswWf"
      },
      "execution_count": null,
      "outputs": []
    }
  ]
}